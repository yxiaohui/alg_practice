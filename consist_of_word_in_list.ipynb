{
 "cells": [
  {
   "cell_type": "code",
   "execution_count": 1,
   "metadata": {},
   "outputs": [],
   "source": [
    "import sys\n",
    "import re"
   ]
  },
  {
   "cell_type": "code",
   "execution_count": 5,
   "metadata": {},
   "outputs": [
    {
     "data": {
      "text/plain": [
       "'I love byte bytedance'"
      ]
     },
     "execution_count": 5,
     "metadata": {},
     "output_type": "execute_result"
    }
   ],
   "source": [
    "str_input = '[I love byte bytedance] Ilovebytedance'#sys.stdin.readline().strip()\n",
    "\n",
    "p1 = re.compile(r'[[](.*?)[]]', re.S)\n",
    "words_list = re.findall(p1, str_input)\n",
    "\n",
    "wl_len = len(words_list[0])\n",
    "\n",
    "words_list[0]\n"
   ]
  },
  {
   "cell_type": "code",
   "execution_count": 6,
   "metadata": {},
   "outputs": [
    {
     "data": {
      "text/plain": [
       "['I', 'love', 'byte', 'bytedance']"
      ]
     },
     "execution_count": 6,
     "metadata": {},
     "output_type": "execute_result"
    }
   ],
   "source": [
    "words_list = words_list[0].split(\" \")\n",
    "list_len = len(words_list)\n",
    "\n",
    "l_str = str_input[wl_len+3:]\n",
    "long_str = l_str\n",
    "words_list"
   ]
  },
  {
   "cell_type": "code",
   "execution_count": 64,
   "metadata": {},
   "outputs": [
    {
     "data": {
      "text/plain": [
       "['bytedance', 'love', 'byte', 'I']"
      ]
     },
     "execution_count": 64,
     "metadata": {},
     "output_type": "execute_result"
    }
   ],
   "source": [
    "\n",
    "myList1 = sorted(words_list,key = lambda i:len(i),reverse=True)  \n",
    "myList1"
   ]
  },
  {
   "cell_type": "code",
   "execution_count": null,
   "metadata": {},
   "outputs": [],
   "source": []
  },
  {
   "cell_type": "code",
   "execution_count": 65,
   "metadata": {},
   "outputs": [
    {
     "name": "stdout",
     "output_type": "stream",
     "text": [
      "***\n",
      "Ilovebytedance\n",
      "bytedance\n",
      "5\n",
      "-1\n",
      "***\n",
      "Ilove\n",
      "love\n",
      "1\n",
      "-1\n",
      "***\n",
      "I\n",
      "byte\n",
      "-1\n",
      "***\n",
      "I\n",
      "I\n",
      "0\n",
      "-1\n",
      "\n"
     ]
    },
    {
     "data": {
      "text/plain": [
       "True"
      ]
     },
     "execution_count": 65,
     "metadata": {},
     "output_type": "execute_result"
    }
   ],
   "source": [
    "\n",
    "\n",
    "def check_words(words_list, long_str):\n",
    "    for i in range((list_len)):\n",
    "        print(\"***\")\n",
    "        print(long_str)\n",
    "        word = words_list[i]\n",
    "        print(word)\n",
    "        while True:\n",
    "            \n",
    "            find = long_str.find(word)\n",
    "            print(find)\n",
    "            if find >= 0:\n",
    "                long_str = long_str[0:find] + long_str[find+len(word): ]\n",
    "            else:\n",
    "                break\n",
    "                \n",
    "    print(long_str)\n",
    "    if len(long_str) > 0:\n",
    "        return False\n",
    "    else:\n",
    "        return True\n",
    "\n",
    "check_words(myList1, long_str)"
   ]
  },
  {
   "cell_type": "code",
   "execution_count": 24,
   "metadata": {},
   "outputs": [
    {
     "data": {
      "text/plain": [
       "['I']"
      ]
     },
     "execution_count": 24,
     "metadata": {},
     "output_type": "execute_result"
    }
   ],
   "source": [
    "words_list"
   ]
  },
  {
   "cell_type": "code",
   "execution_count": null,
   "metadata": {},
   "outputs": [],
   "source": []
  }
 ],
 "metadata": {
  "kernelspec": {
   "display_name": "Python 3",
   "language": "python",
   "name": "python3"
  },
  "language_info": {
   "codemirror_mode": {
    "name": "ipython",
    "version": 3
   },
   "file_extension": ".py",
   "mimetype": "text/x-python",
   "name": "python",
   "nbconvert_exporter": "python",
   "pygments_lexer": "ipython3",
   "version": "3.6.6"
  }
 },
 "nbformat": 4,
 "nbformat_minor": 2
}
