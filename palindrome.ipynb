{
 "cells": [
  {
   "cell_type": "markdown",
   "metadata": {},
   "source": [
    "# Palindrome\n",
    "\n",
    "## Problem: given a string x = x1...n, find the minimum number of characters that need to be inserted to make it a palindrome\n",
    "\n",
    "## Example:\n",
    "- x: Ab3bd\n",
    "- Can get “dAb3bAd” or “Adb3bdA” by inserting 2 characters (one ‘d’, one ‘A’)"
   ]
  },
  {
   "cell_type": "markdown",
   "metadata": {},
   "source": [
    "## Define subproblems\n",
    "- Let Dij be the minimum number of characters that need to be inserted to make xi...j into a palindrome\n",
    "\n",
    "## Find the recurrence\n",
    "- Consider a shortest palindrome y1...k containing xi...j \n",
    "- Either y1 =xi oryk =xj (why?)\n",
    "- y2...k−1 is then an optimal solution for xi+1...j or xi...j−1 or xi+1...j −1\n",
    "   - Last case possible onlyif y1 =yk =xi =xj"
   ]
  },
  {
   "cell_type": "markdown",
   "metadata": {},
   "source": [
    "## Find the recurrence\n",
    "Dij = 1+min{Di+1,j,Di,j−1} if xi ̸=xj\n",
    "\n",
    "OR\n",
    "\n",
    "Dij = Di+1,j−1 if xi = xj\n",
    "## Find and solve the base cases:\n",
    "- Dii = Di,i−1 = 0 for all i\n",
    "\n",
    "## The entries of D must be filled in increasing order of j − i"
   ]
  },
  {
   "cell_type": "markdown",
   "metadata": {},
   "source": [
    "// fill in base cases here\n",
    "\n",
    "   for(t = 2; t <= n; t++)\n",
    "   \n",
    "       for(i = 1, j = t; j <= n; i++, j++)\n",
    "       \n",
    "           // fill in D[i][j] here\n",
    "           \n",
    "## Note how we use an additional variable t to fill the table in correct order\n",
    "## And yes, for loops can work with multiple variables"
   ]
  },
  {
   "cell_type": "code",
   "execution_count": 1,
   "metadata": {},
   "outputs": [],
   "source": [
    "import numpy as np"
   ]
  },
  {
   "cell_type": "code",
   "execution_count": 3,
   "metadata": {},
   "outputs": [],
   "source": [
    "def cheapest_palindrome(x):\n",
    "    n = len(x)\n",
    "    D = np.zeros((n, n))\n",
    "    \n",
    "    for t in range(1, n):\n",
    "        i, j = 0, t\n",
    "        while j<n:\n",
    "            if x[i] == x[j]:\n",
    "                D[i][j] = D[i+1][j-1]\n",
    "            else:\n",
    "                D[i][j] = 1 + min(D[i+1][j], D[i][j-1])\n",
    "            i = i + 1\n",
    "            j = j + 1\n",
    "            \n",
    "    return D[0][n-1]"
   ]
  },
  {
   "cell_type": "code",
   "execution_count": 4,
   "metadata": {},
   "outputs": [
    {
     "data": {
      "text/plain": [
       "2.0"
      ]
     },
     "execution_count": 4,
     "metadata": {},
     "output_type": "execute_result"
    }
   ],
   "source": [
    "x = 'Ab3bd'\n",
    "cheapest_palindrome(x)"
   ]
  },
  {
   "cell_type": "code",
   "execution_count": null,
   "metadata": {},
   "outputs": [],
   "source": []
  },
  {
   "cell_type": "code",
   "execution_count": null,
   "metadata": {},
   "outputs": [],
   "source": []
  }
 ],
 "metadata": {
  "kernelspec": {
   "display_name": "Python 3",
   "language": "python",
   "name": "python3"
  },
  "language_info": {
   "codemirror_mode": {
    "name": "ipython",
    "version": 3
   },
   "file_extension": ".py",
   "mimetype": "text/x-python",
   "name": "python",
   "nbconvert_exporter": "python",
   "pygments_lexer": "ipython3",
   "version": "3.6.6"
  }
 },
 "nbformat": 4,
 "nbformat_minor": 2
}
