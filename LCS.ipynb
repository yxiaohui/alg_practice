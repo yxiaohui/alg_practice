{
 "cells": [
  {
   "cell_type": "markdown",
   "metadata": {},
   "source": [
    "◮ Problem: given two strings x and y, find the longest common subsequence (LCS) and print its length\n",
    "\n",
    "◮ Example:\n",
    "- x: ABCBDAB\n",
    "- y: BDCABC\n",
    "- “BCAB” is the longest subsequence found in both sequences, so\n",
    "the answer is 4"
   ]
  },
  {
   "cell_type": "markdown",
   "metadata": {},
   "source": [
    "◮ Define subproblems\n",
    "- Let Dij be the length of the LCS of x1...i and y1...j\n",
    "\n",
    "◮ Find the recurrence\n",
    "- If xi = yj, they both contribute to the LCS\n",
    "\n",
    "◮ Dij=Di−1,j−1+1\n",
    "- Otherwise, either xi or yj does not contribute to the LCS, so one can be dropped\n",
    "\n",
    "◮ Dij = max{Di−1,j , Di,j−1}\n",
    "- Find and solve the base cases: Di0 = D0j = 0"
   ]
  },
  {
   "cell_type": "code",
   "execution_count": 2,
   "metadata": {},
   "outputs": [],
   "source": [
    "import numpy as np"
   ]
  },
  {
   "cell_type": "code",
   "execution_count": 8,
   "metadata": {},
   "outputs": [
    {
     "name": "stdout",
     "output_type": "stream",
     "text": [
      "7\n",
      "6\n"
     ]
    }
   ],
   "source": [
    "x = 'ABCBDAB'\n",
    "y = 'BDCABC'\n",
    "#n = len(x)\n",
    "#m = len(y)\n",
    "#print(m)\n",
    "#print(n)"
   ]
  },
  {
   "cell_type": "code",
   "execution_count": 32,
   "metadata": {},
   "outputs": [],
   "source": [
    "def LCS(x, y):\n",
    "    n = len(x)\n",
    "    m = len(y)\n",
    "    print(n)\n",
    "    print(m)\n",
    "    D = np.zeros((n+1, m+1))\n",
    "    \n",
    "    for i in range(1, n+1):\n",
    "        for j in range(1, m+1):\n",
    "            if x[i-1] == y[j-1]:\n",
    "                D[i][j] = D[i-1][j-1] + 1\n",
    "            else:\n",
    "                D[i][j] = max(D[i-1][j], D[i][j-1])\n",
    "    return D[n][m]"
   ]
  },
  {
   "cell_type": "code",
   "execution_count": 33,
   "metadata": {},
   "outputs": [
    {
     "name": "stdout",
     "output_type": "stream",
     "text": [
      "7\n",
      "6\n"
     ]
    },
    {
     "data": {
      "text/plain": [
       "4.0"
      ]
     },
     "execution_count": 33,
     "metadata": {},
     "output_type": "execute_result"
    }
   ],
   "source": [
    "LCS(x, y)"
   ]
  },
  {
   "cell_type": "code",
   "execution_count": null,
   "metadata": {},
   "outputs": [],
   "source": []
  }
 ],
 "metadata": {
  "kernelspec": {
   "display_name": "Python 3",
   "language": "python",
   "name": "python3"
  },
  "language_info": {
   "codemirror_mode": {
    "name": "ipython",
    "version": 3
   },
   "file_extension": ".py",
   "mimetype": "text/x-python",
   "name": "python",
   "nbconvert_exporter": "python",
   "pygments_lexer": "ipython3",
   "version": "3.6.6"
  }
 },
 "nbformat": 4,
 "nbformat_minor": 2
}
